{
 "cells": [
  {
   "cell_type": "code",
   "execution_count": 4,
   "metadata": {},
   "outputs": [
    {
     "name": "stderr",
     "output_type": "stream",
     "text": [
      "Ultralytics YOLOv8.0.169  Python-3.10.9 torch-2.1.1+cu121 CUDA:0 (NVIDIA GeForce RTX 2070 SUPER, 8192MiB)\n",
      "Setup complete  (8 CPUs, 31.9 GB RAM, 203.6/237.9 GB disk)\n"
     ]
    }
   ],
   "source": [
    "import ultralytics\n",
    "ultralytics.checks()"
   ]
  },
  {
   "cell_type": "code",
   "execution_count": 8,
   "metadata": {},
   "outputs": [
    {
     "name": "stderr",
     "output_type": "stream",
     "text": [
      "\n",
      "image 1/1 c:\\Users\\rldhkstopic\\grasp-point\\rgbd_dataset\\rgb_1.png: 480x640 3 a pringless, 9.0ms\n",
      "Speed: 1.0ms preprocess, 9.0ms inference, 2.0ms postprocess per image at shape (1, 3, 480, 640)\n",
      "Results saved to \u001b[1mruns\\detect\\predict4\u001b[0m\n"
     ]
    },
    {
     "data": {
      "text/plain": [
       "[ultralytics.engine.results.Results object with attributes:\n",
       " \n",
       " boxes: ultralytics.engine.results.Boxes object\n",
       " keypoints: None\n",
       " masks: None\n",
       " names: {0: 'a pringles'}\n",
       " orig_img: array([[[ 80,  78,  95],\n",
       "         [ 80,  78,  95],\n",
       "         [ 79,  79,  96],\n",
       "         ...,\n",
       "         [ 68,  63,  67],\n",
       "         [ 73,  64,  71],\n",
       "         [ 70,  61,  68]],\n",
       " \n",
       "        [[ 79,  78,  93],\n",
       "         [ 80,  79,  94],\n",
       "         [ 79,  80,  95],\n",
       "         ...,\n",
       "         [ 67,  64,  68],\n",
       "         [ 70,  66,  72],\n",
       "         [ 67,  63,  69]],\n",
       " \n",
       "        [[ 77,  78,  93],\n",
       "         [ 78,  79,  94],\n",
       "         [ 79,  81,  93],\n",
       "         ...,\n",
       "         [ 69,  67,  68],\n",
       "         [ 70,  67,  71],\n",
       "         [ 69,  66,  70]],\n",
       " \n",
       "        ...,\n",
       " \n",
       "        [[ 49,  59,  74],\n",
       "         [ 53,  63,  78],\n",
       "         [ 49,  60,  73],\n",
       "         ...,\n",
       "         [ 89,  94, 105],\n",
       "         [ 86,  93, 104],\n",
       "         [ 86,  93, 104]],\n",
       " \n",
       "        [[ 49,  61,  76],\n",
       "         [ 51,  63,  78],\n",
       "         [ 49,  60,  73],\n",
       "         ...,\n",
       "         [ 88,  93, 104],\n",
       "         [ 90,  95, 106],\n",
       "         [ 88,  93, 104]],\n",
       " \n",
       "        [[ 49,  62,  75],\n",
       "         [ 51,  64,  77],\n",
       "         [ 46,  59,  72],\n",
       "         ...,\n",
       "         [ 89,  91, 103],\n",
       "         [ 91,  96, 107],\n",
       "         [ 90,  95, 106]]], dtype=uint8)\n",
       " orig_shape: (480, 640)\n",
       " path: 'c:\\\\Users\\\\rldhkstopic\\\\grasp-point\\\\rgbd_dataset\\\\rgb_1.png'\n",
       " probs: None\n",
       " save_dir: 'runs\\\\detect\\\\predict4'\n",
       " speed: {'preprocess': 1.0018348693847656, 'inference': 9.000062942504883, 'postprocess': 2.001523971557617}]"
      ]
     },
     "execution_count": 8,
     "metadata": {},
     "output_type": "execute_result"
    }
   ],
   "source": [
    "rgbd_path = './rgbd_dataset/'\n",
    "\n",
    "num = 1\n",
    "rgb = rgbd_path + f'rgb_{num}.png'\n",
    "depth = rgbd_path + f'depth_{num}.png'\n",
    "run_path = './runs/detect/train2/weights/last.pt'\n",
    "\n",
    "from ultralytics import YOLO\n",
    "\n",
    "model = YOLO(run_path)\n",
    "model.predict(\n",
    "    source=rgb,\n",
    "    conf=0.25,\n",
    "    save=True,\n",
    ")"
   ]
  },
  {
   "cell_type": "code",
   "execution_count": 12,
   "metadata": {},
   "outputs": [
    {
     "name": "stderr",
     "output_type": "stream",
     "text": [
      "New https://pypi.org/project/ultralytics/8.0.227 available  Update with 'pip install -U ultralytics'\n",
      "Ultralytics YOLOv8.0.169  Python-3.10.9 torch-2.1.1+cu121 CUDA:0 (NVIDIA GeForce RTX 2070 SUPER, 8192MiB)\n",
      "\u001b[34m\u001b[1mengine\\trainer: \u001b[0mtask=detect, mode=train, model=yolov8s.pt, data=datasets/pringles_dataset/data.yaml, epochs=50, patience=50, batch=16, imgsz=640, save=True, save_period=-1, cache=False, device=None, workers=8, project=None, name=None, exist_ok=False, pretrained=True, optimizer=auto, verbose=True, seed=0, deterministic=True, single_cls=False, rect=False, cos_lr=False, close_mosaic=10, resume=False, amp=True, fraction=1.0, profile=False, freeze=None, overlap_mask=True, mask_ratio=4, dropout=0.0, val=True, split=val, save_json=False, save_hybrid=False, conf=None, iou=0.7, max_det=300, half=False, dnn=False, plots=True, source=None, show=False, save_txt=False, save_conf=False, save_crop=False, show_labels=True, show_conf=True, vid_stride=1, stream_buffer=False, line_width=None, visualize=False, augment=False, agnostic_nms=False, classes=None, retina_masks=False, boxes=True, format=torchscript, keras=False, optimize=False, int8=False, dynamic=False, simplify=False, opset=None, workspace=4, nms=False, lr0=0.01, lrf=0.01, momentum=0.937, weight_decay=0.0005, warmup_epochs=3.0, warmup_momentum=0.8, warmup_bias_lr=0.1, box=7.5, cls=0.5, dfl=1.5, pose=12.0, kobj=1.0, label_smoothing=0.0, nbs=64, hsv_h=0.015, hsv_s=0.7, hsv_v=0.4, degrees=0.0, translate=0.1, scale=0.5, shear=0.0, perspective=0.0, flipud=0.0, fliplr=0.5, mosaic=1.0, mixup=0.0, copy_paste=0.0, cfg=None, tracker=botsort.yaml, save_dir=runs\\detect\\train8\n",
      "Traceback (most recent call last):\n",
      "  File \"C:\\Users\\rldhkstopic\\anaconda3\\lib\\site-packages\\ultralytics\\engine\\trainer.py\", line 118, in __init__\n",
      "    self.data = check_det_dataset(self.args.data)\n",
      "  File \"C:\\Users\\rldhkstopic\\anaconda3\\lib\\site-packages\\ultralytics\\data\\utils.py\", line 302, in check_det_dataset\n",
      "    raise FileNotFoundError(m)\n",
      "FileNotFoundError: \n",
      "Dataset 'datasets/pringles_dataset/data.yaml' images not found ⚠️, missing path 'C:\\Users\\rldhkstopic\\grasp-point\\datasets\\datasets\\pringles_dataset\\valid\\images'\n",
      "Note dataset download directory is 'C:\\Users\\rldhkstopic\\grasp-point\\datasets'. You can update this in 'C:\\Users\\rldhkstopic\\AppData\\Roaming\\Ultralytics\\settings.yaml'\n",
      "\n",
      "The above exception was the direct cause of the following exception:\n",
      "\n",
      "Traceback (most recent call last):\n",
      "  File \"C:\\Users\\rldhkstopic\\anaconda3\\lib\\runpy.py\", line 196, in _run_module_as_main\n",
      "    return _run_code(code, main_globals, None,\n",
      "  File \"C:\\Users\\rldhkstopic\\anaconda3\\lib\\runpy.py\", line 86, in _run_code\n",
      "    exec(code, run_globals)\n",
      "  File \"C:\\Users\\rldhkstopic\\anaconda3\\Scripts\\yolo.exe\\__main__.py\", line 7, in <module>\n",
      "  File \"C:\\Users\\rldhkstopic\\anaconda3\\lib\\site-packages\\ultralytics\\cfg\\__init__.py\", line 446, in entrypoint\n",
      "    getattr(model, mode)(**overrides)  # default args from model\n",
      "  File \"C:\\Users\\rldhkstopic\\anaconda3\\lib\\site-packages\\ultralytics\\engine\\model.py\", line 336, in train\n",
      "    self.trainer = (trainer or self.smart_load('trainer'))(overrides=args, _callbacks=self.callbacks)\n",
      "  File \"C:\\Users\\rldhkstopic\\anaconda3\\lib\\site-packages\\ultralytics\\engine\\trainer.py\", line 122, in __init__\n",
      "    raise RuntimeError(emojis(f\"Dataset '{clean_url(self.args.data)}' error ❌ {e}\")) from e\n",
      "RuntimeError: Dataset 'datasets/pringles_dataset/data.yaml' error  \n",
      "Dataset 'datasets/pringles_dataset/data.yaml' images not found , missing path 'C:\\Users\\rldhkstopic\\grasp-point\\datasets\\datasets\\pringles_dataset\\valid\\images'\n",
      "Note dataset download directory is 'C:\\Users\\rldhkstopic\\grasp-point\\datasets'. You can update this in 'C:\\Users\\rldhkstopic\\AppData\\Roaming\\Ultralytics\\settings.yaml'\n"
     ]
    }
   ],
   "source": [
    "import os\n",
    "\n",
    "!yolo task=detect \\\n",
    "mode=train \\\n",
    "model=yolov8s.pt \\\n",
    "data=~/code/GraspPoint-Estimation/pringles_dataset/data.yaml \\\n",
    "epochs=50 \\\n",
    "imgsz=640"
   ]
  }
 ],
 "metadata": {
  "kernelspec": {
   "display_name": "base",
   "language": "python",
   "name": "python3"
  },
  "language_info": {
   "codemirror_mode": {
    "name": "ipython",
    "version": 3
   },
   "file_extension": ".py",
   "mimetype": "text/x-python",
   "name": "python",
   "nbconvert_exporter": "python",
   "pygments_lexer": "ipython3",
   "version": "3.10.9"
  }
 },
 "nbformat": 4,
 "nbformat_minor": 2
}
